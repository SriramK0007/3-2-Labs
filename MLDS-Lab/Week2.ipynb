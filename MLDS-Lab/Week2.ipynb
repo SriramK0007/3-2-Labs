{
  "nbformat": 4,
  "nbformat_minor": 0,
  "metadata": {
    "colab": {
      "provenance": []
    },
    "kernelspec": {
      "name": "python3",
      "display_name": "Python 3"
    },
    "language_info": {
      "name": "python"
    }
  },
  "cells": [
    {
      "cell_type": "markdown",
      "source": [],
      "metadata": {
        "id": "VpRWKdhpbKtl"
      }
    },
    {
      "cell_type": "code",
      "execution_count": 1,
      "metadata": {
        "colab": {
          "base_uri": "https://localhost:8080/",
          "height": 73
        },
        "id": "ruQw3753Zy9R",
        "outputId": "3f2d9208-b07e-4852-8e9b-28e0a888fc1e"
      },
      "outputs": [
        {
          "output_type": "display_data",
          "data": {
            "text/plain": [
              "<IPython.core.display.HTML object>"
            ],
            "text/html": [
              "\n",
              "     <input type=\"file\" id=\"files-5a9b0078-8573-48cc-bb3b-e6bd3bad9585\" name=\"files[]\" multiple disabled\n",
              "        style=\"border:none\" />\n",
              "     <output id=\"result-5a9b0078-8573-48cc-bb3b-e6bd3bad9585\">\n",
              "      Upload widget is only available when the cell has been executed in the\n",
              "      current browser session. Please rerun this cell to enable.\n",
              "      </output>\n",
              "      <script>// Copyright 2017 Google LLC\n",
              "//\n",
              "// Licensed under the Apache License, Version 2.0 (the \"License\");\n",
              "// you may not use this file except in compliance with the License.\n",
              "// You may obtain a copy of the License at\n",
              "//\n",
              "//      http://www.apache.org/licenses/LICENSE-2.0\n",
              "//\n",
              "// Unless required by applicable law or agreed to in writing, software\n",
              "// distributed under the License is distributed on an \"AS IS\" BASIS,\n",
              "// WITHOUT WARRANTIES OR CONDITIONS OF ANY KIND, either express or implied.\n",
              "// See the License for the specific language governing permissions and\n",
              "// limitations under the License.\n",
              "\n",
              "/**\n",
              " * @fileoverview Helpers for google.colab Python module.\n",
              " */\n",
              "(function(scope) {\n",
              "function span(text, styleAttributes = {}) {\n",
              "  const element = document.createElement('span');\n",
              "  element.textContent = text;\n",
              "  for (const key of Object.keys(styleAttributes)) {\n",
              "    element.style[key] = styleAttributes[key];\n",
              "  }\n",
              "  return element;\n",
              "}\n",
              "\n",
              "// Max number of bytes which will be uploaded at a time.\n",
              "const MAX_PAYLOAD_SIZE = 100 * 1024;\n",
              "\n",
              "function _uploadFiles(inputId, outputId) {\n",
              "  const steps = uploadFilesStep(inputId, outputId);\n",
              "  const outputElement = document.getElementById(outputId);\n",
              "  // Cache steps on the outputElement to make it available for the next call\n",
              "  // to uploadFilesContinue from Python.\n",
              "  outputElement.steps = steps;\n",
              "\n",
              "  return _uploadFilesContinue(outputId);\n",
              "}\n",
              "\n",
              "// This is roughly an async generator (not supported in the browser yet),\n",
              "// where there are multiple asynchronous steps and the Python side is going\n",
              "// to poll for completion of each step.\n",
              "// This uses a Promise to block the python side on completion of each step,\n",
              "// then passes the result of the previous step as the input to the next step.\n",
              "function _uploadFilesContinue(outputId) {\n",
              "  const outputElement = document.getElementById(outputId);\n",
              "  const steps = outputElement.steps;\n",
              "\n",
              "  const next = steps.next(outputElement.lastPromiseValue);\n",
              "  return Promise.resolve(next.value.promise).then((value) => {\n",
              "    // Cache the last promise value to make it available to the next\n",
              "    // step of the generator.\n",
              "    outputElement.lastPromiseValue = value;\n",
              "    return next.value.response;\n",
              "  });\n",
              "}\n",
              "\n",
              "/**\n",
              " * Generator function which is called between each async step of the upload\n",
              " * process.\n",
              " * @param {string} inputId Element ID of the input file picker element.\n",
              " * @param {string} outputId Element ID of the output display.\n",
              " * @return {!Iterable<!Object>} Iterable of next steps.\n",
              " */\n",
              "function* uploadFilesStep(inputId, outputId) {\n",
              "  const inputElement = document.getElementById(inputId);\n",
              "  inputElement.disabled = false;\n",
              "\n",
              "  const outputElement = document.getElementById(outputId);\n",
              "  outputElement.innerHTML = '';\n",
              "\n",
              "  const pickedPromise = new Promise((resolve) => {\n",
              "    inputElement.addEventListener('change', (e) => {\n",
              "      resolve(e.target.files);\n",
              "    });\n",
              "  });\n",
              "\n",
              "  const cancel = document.createElement('button');\n",
              "  inputElement.parentElement.appendChild(cancel);\n",
              "  cancel.textContent = 'Cancel upload';\n",
              "  const cancelPromise = new Promise((resolve) => {\n",
              "    cancel.onclick = () => {\n",
              "      resolve(null);\n",
              "    };\n",
              "  });\n",
              "\n",
              "  // Wait for the user to pick the files.\n",
              "  const files = yield {\n",
              "    promise: Promise.race([pickedPromise, cancelPromise]),\n",
              "    response: {\n",
              "      action: 'starting',\n",
              "    }\n",
              "  };\n",
              "\n",
              "  cancel.remove();\n",
              "\n",
              "  // Disable the input element since further picks are not allowed.\n",
              "  inputElement.disabled = true;\n",
              "\n",
              "  if (!files) {\n",
              "    return {\n",
              "      response: {\n",
              "        action: 'complete',\n",
              "      }\n",
              "    };\n",
              "  }\n",
              "\n",
              "  for (const file of files) {\n",
              "    const li = document.createElement('li');\n",
              "    li.append(span(file.name, {fontWeight: 'bold'}));\n",
              "    li.append(span(\n",
              "        `(${file.type || 'n/a'}) - ${file.size} bytes, ` +\n",
              "        `last modified: ${\n",
              "            file.lastModifiedDate ? file.lastModifiedDate.toLocaleDateString() :\n",
              "                                    'n/a'} - `));\n",
              "    const percent = span('0% done');\n",
              "    li.appendChild(percent);\n",
              "\n",
              "    outputElement.appendChild(li);\n",
              "\n",
              "    const fileDataPromise = new Promise((resolve) => {\n",
              "      const reader = new FileReader();\n",
              "      reader.onload = (e) => {\n",
              "        resolve(e.target.result);\n",
              "      };\n",
              "      reader.readAsArrayBuffer(file);\n",
              "    });\n",
              "    // Wait for the data to be ready.\n",
              "    let fileData = yield {\n",
              "      promise: fileDataPromise,\n",
              "      response: {\n",
              "        action: 'continue',\n",
              "      }\n",
              "    };\n",
              "\n",
              "    // Use a chunked sending to avoid message size limits. See b/62115660.\n",
              "    let position = 0;\n",
              "    do {\n",
              "      const length = Math.min(fileData.byteLength - position, MAX_PAYLOAD_SIZE);\n",
              "      const chunk = new Uint8Array(fileData, position, length);\n",
              "      position += length;\n",
              "\n",
              "      const base64 = btoa(String.fromCharCode.apply(null, chunk));\n",
              "      yield {\n",
              "        response: {\n",
              "          action: 'append',\n",
              "          file: file.name,\n",
              "          data: base64,\n",
              "        },\n",
              "      };\n",
              "\n",
              "      let percentDone = fileData.byteLength === 0 ?\n",
              "          100 :\n",
              "          Math.round((position / fileData.byteLength) * 100);\n",
              "      percent.textContent = `${percentDone}% done`;\n",
              "\n",
              "    } while (position < fileData.byteLength);\n",
              "  }\n",
              "\n",
              "  // All done.\n",
              "  yield {\n",
              "    response: {\n",
              "      action: 'complete',\n",
              "    }\n",
              "  };\n",
              "}\n",
              "\n",
              "scope.google = scope.google || {};\n",
              "scope.google.colab = scope.google.colab || {};\n",
              "scope.google.colab._files = {\n",
              "  _uploadFiles,\n",
              "  _uploadFilesContinue,\n",
              "};\n",
              "})(self);\n",
              "</script> "
            ]
          },
          "metadata": {}
        },
        {
          "output_type": "stream",
          "name": "stdout",
          "text": [
            "Saving PlayTennis.csv to PlayTennis.csv\n"
          ]
        }
      ],
      "source": [
        "from google.colab import files\n",
        "uploaded=files.upload()"
      ]
    },
    {
      "cell_type": "code",
      "source": [
        "import pandas as pd\n",
        "df=pd.read_csv(\"PlayTennis.csv\")\n",
        "print(df)"
      ],
      "metadata": {
        "colab": {
          "base_uri": "https://localhost:8080/"
        },
        "id": "spQuIdE7aVP9",
        "outputId": "80017ad3-22a4-48d3-8a0e-7d71ea8bea2e"
      },
      "execution_count": 2,
      "outputs": [
        {
          "output_type": "stream",
          "name": "stdout",
          "text": [
            "     Outlook Temperature Humidity    Wind PlayTennis\n",
            "0      Sunny         Hot     High    Weak         No\n",
            "1      Sunny         Hot     High  Strong         No\n",
            "2   Overcast         Hot     High    Weak        Yes\n",
            "3       Rain        Mild     High    Weak        Yes\n",
            "4       Rain        Cool   Normal    Weak        Yes\n",
            "5       Rain        Cool   Normal  Strong         No\n",
            "6   Overcast        Cool   Normal  Strong        Yes\n",
            "7      Sunny        Mild     High    Weak         No\n",
            "8      Sunny        Cool   Normal    Weak        Yes\n",
            "9       Rain        Mild   Normal    Weak        Yes\n",
            "10     Sunny        Mild   Normal  Strong        Yes\n",
            "11  Overcast        Mild     High  Strong        Yes\n",
            "12  Overcast         Hot   Normal    Weak        Yes\n",
            "13      Rain        Mild     High  Strong         No\n"
          ]
        }
      ]
    },
    {
      "cell_type": "code",
      "source": [
        "#Calculate Entropy\n",
        "def entropy(probs):\n",
        "  import math\n",
        "  return sum(-prob*math.log(prob,2) for prob in probs)"
      ],
      "metadata": {
        "id": "aF6vqFqvasQ0"
      },
      "execution_count": 3,
      "outputs": []
    },
    {
      "cell_type": "code",
      "source": [
        "# Calculating the Probability of Positive and negative examples\n",
        "def entropy_of_list(a_list):\n",
        "  from collections import Counter\n",
        "  cnt = Counter (x for x in a_list)\n",
        "  num_instances =len(a_list)\n",
        "  probs=[x/num_instances for x in cnt.values()]\n",
        "  return entropy(probs)"
      ],
      "metadata": {
        "id": "iuNUp9eJawpd"
      },
      "execution_count": 4,
      "outputs": []
    },
    {
      "cell_type": "code",
      "source": [
        "total_entropy= entropy_of_list(df['PlayTennis'])\n",
        "print(total_entropy)"
      ],
      "metadata": {
        "colab": {
          "base_uri": "https://localhost:8080/"
        },
        "id": "CIn6InoXazrv",
        "outputId": "680ec537-8ff6-4827-c52b-dc98ba80e3a5"
      },
      "execution_count": 5,
      "outputs": [
        {
          "output_type": "stream",
          "name": "stdout",
          "text": [
            "0.9402859586706309\n"
          ]
        }
      ]
    },
    {
      "cell_type": "code",
      "source": [
        "#Calculating information Gain Function\n",
        "def information_gain(df,split_attribute_name, target_attribute_name, trace=0):\n",
        "  #print (\"Information gain calculation of\", split_attribute_name)\n",
        "  #print(\"target_attribute_name\",target_attribute_name)\n",
        "  df_split =df.groupby(split_attribute_name)\n",
        "  for name,group in  df_split:\n",
        "    #print(\"Name\", name)\n",
        "    #print(\"Group\",group)\n",
        "    nobs=len(df.index)*1.0\n",
        "    #print(nobs)\n",
        "    # Calculating Entropy of an attribute  and probability part of formula\n",
        "    df_agg_ent=df_split.agg({target_attribute_name: [entropy_of_list,lambda x: len(x)/nobs] })[target_attribute_name]\n",
        "    #print(\"df_agg_ent\", df_agg_ent)\n",
        "    #print(df_agg_ent.columns)\n",
        "    #calculate information gain\n",
        "    avg_info=sum(df_agg_ent['entropy_of_list'] * df_agg_ent['<lambda_0>'])\n",
        "    old_entropy=entropy_of_list(df[target_attribute_name])\n",
        "    return old_entropy-avg_info\n",
        "\n",
        "\n",
        "#print('Ingo-gain for day is'+str(information_gain(df,'Day', 'PlayTime')))\n"
      ],
      "metadata": {
        "id": "LI8mddvza30W"
      },
      "execution_count": 6,
      "outputs": []
    },
    {
      "cell_type": "code",
      "source": [
        "def id3DT(df, target_attribute_name, attribute_names, default_class=None):\n",
        "  from collections import Counter\n",
        "  cnt = Counter(x for x in df[target_attribute_name])\n",
        "  if len(cnt)==1:\n",
        "    return next(iter(cnt))\n",
        "  elif df.empty or (not attribute_names):\n",
        "    return default_class\n",
        "  else:\n",
        "    default_class =max(cnt.keys())\n",
        "    #print(\"attributes_names:\",attribute_names)\n",
        "    gainz=[information_gain(df,attr, target_attribute_name) for attr in attribute_names]\n",
        "    index_of_max=gainz.index(max(gainz))\n",
        "    best_attr=attribute_names[index_of_max]\n",
        "    tree={best_attr:{}}\n",
        "    remaining_attributes_names=[i for i in attribute_names if i != best_attr]\n",
        "    for attr_val, data_subset in df.groupby(best_attr):\n",
        "      subtree=id3DT(data_subset,target_attribute_name,remaining_attributes_names,default_class)\n",
        "      tree[best_attr][attr_val]=subtree\n",
        "  return tree\n",
        "\n",
        "attribute_names=list(df.columns)\n",
        "attribute_names.remove('PlayTennis')\n"
      ],
      "metadata": {
        "id": "ECWgaU_Wa7QW"
      },
      "execution_count": 7,
      "outputs": []
    },
    {
      "cell_type": "code",
      "source": [
        "from pprint import pprint\n",
        "tree= id3DT(df,'PlayTennis',attribute_names)\n",
        "print(\"The Resultant Decision Tree is \")\n",
        "pprint(tree)\n",
        "attribute=next(iter(tree))\n",
        "print(\"Best Attribute: \\n\", attribute)\n",
        "print(\"Tree Keys\\n \", tree[attribute].keys())"
      ],
      "metadata": {
        "colab": {
          "base_uri": "https://localhost:8080/"
        },
        "id": "BCRIGTACa_50",
        "outputId": "40e8141f-16c8-4385-ceca-9514f920be66"
      },
      "execution_count": 8,
      "outputs": [
        {
          "output_type": "stream",
          "name": "stdout",
          "text": [
            "The Resultant Decision Tree is \n",
            "{'Outlook': {'Overcast': 'Yes',\n",
            "             'Rain': {'Wind': {'Strong': 'No', 'Weak': 'Yes'}},\n",
            "             'Sunny': {'Humidity': {'High': 'No', 'Normal': 'Yes'}}}}\n",
            "Best Attribute: \n",
            " Outlook\n",
            "Tree Keys\n",
            "  dict_keys(['Overcast', 'Rain', 'Sunny'])\n"
          ]
        }
      ]
    },
    {
      "cell_type": "code",
      "source": [
        "def classify(instance, tree, default=None):\n",
        "  attribute=next(iter(tree))\n",
        "  print(\"Key:\",tree.keys())\n",
        "  print(\"Attribute\",attribute)\n",
        "  if instance[attribute] in tree[attribute].keys():\n",
        "    result=tree[attribute][instance[attribute]]\n",
        "    print(\"Instance Attribute:\",instance[attribute], \"TreeKeys:\",tree[attribute].keys())\n",
        "    if isinstance(result,dict):\n",
        "      return classify(instance,result)\n",
        "    else:\n",
        "      return result\n",
        "  else:\n",
        "    return default\n",
        "\n",
        "tree1={'Outlook':['Rainy','Sunny'],'Temperature':['Mild','Hot'],'Humidity':['Normal','High'],'Windy':['Weak','Strong']}\n",
        "df2=pd.DataFrame(tree1)\n",
        "df2['Predicted']=df2.apply(classify,axis=1, args=(tree,'No'))\n",
        "print(df2)\n"
      ],
      "metadata": {
        "colab": {
          "base_uri": "https://localhost:8080/"
        },
        "id": "iWF5ua9JbDnN",
        "outputId": "e7be3415-bd01-42c0-cea0-6d387876d64f"
      },
      "execution_count": 9,
      "outputs": [
        {
          "output_type": "stream",
          "name": "stdout",
          "text": [
            "Key: dict_keys(['Outlook'])\n",
            "Attribute Outlook\n",
            "Key: dict_keys(['Outlook'])\n",
            "Attribute Outlook\n",
            "Instance Attribute: Sunny TreeKeys: dict_keys(['Overcast', 'Rain', 'Sunny'])\n",
            "Key: dict_keys(['Humidity'])\n",
            "Attribute Humidity\n",
            "Instance Attribute: High TreeKeys: dict_keys(['High', 'Normal'])\n",
            "  Outlook Temperature Humidity   Windy Predicted\n",
            "0   Rainy        Mild   Normal    Weak        No\n",
            "1   Sunny         Hot     High  Strong        No\n"
          ]
        }
      ]
    }
  ]
}