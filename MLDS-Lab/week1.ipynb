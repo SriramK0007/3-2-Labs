{
  "nbformat": 4,
  "nbformat_minor": 0,
  "metadata": {
    "colab": {
      "provenance": [],
      "authorship_tag": "ABX9TyPzQ58j1E4uxf+KeK4l/nrW"
    },
    "kernelspec": {
      "name": "python3",
      "display_name": "Python 3"
    },
    "language_info": {
      "name": "python"
    }
  },
  "cells": [
    {
      "cell_type": "code",
      "execution_count": null,
      "metadata": {
        "colab": {
          "base_uri": "https://localhost:8080/"
        },
        "id": "2husm3u5AgdX",
        "outputId": "b98eb799-ac1d-4d9f-e241-71dba4424590"
      },
      "outputs": [
        {
          "output_type": "stream",
          "name": "stdout",
          "text": [
            "\n",
            "The given Training Dataset \n",
            "\n",
            "['sunny', 'warm', 'high', 'strong', 'cool', 'change', 'yes']\n",
            "\n",
            " The initial value of hypothesis:\n",
            "['0', '0', '0', '0', '0', '0']\n",
            "\n",
            " Find S: Finding a Maximally Specific hypothesis \n",
            "\n",
            "For training Instance No:3 the hypothesis is ['sunny', 'warm', '?', 'strong', '?', 'change']\n",
            "\n",
            " The Maximally specific Hypothesis for a given Training Examples: \n",
            "\n",
            "['sunny', 'warm', '?', 'strong', '?', 'change']\n"
          ]
        }
      ],
      "source": [
        "import csv\n",
        "num_attributes=6\n",
        "a=[]\n",
        "print(\"\\nThe given Training Dataset \\n\")\n",
        "with open('enjoysport.csv','r') as csvfile:\n",
        "  reader=csv.reader(csvfile)\n",
        "  for row in reader:\n",
        "    a.append(row)\n",
        "print(row)\n",
        "print(\"\\n The initial value of hypothesis:\")\n",
        "hypothesis=['0']*num_attributes\n",
        "print(hypothesis)\n",
        "for j in range(0,num_attributes):\n",
        "  hypothesis[j]=a[0][j];\n",
        "print(\"\\n Find S: Finding a Maximally Specific hypothesis \\n\")\n",
        "for i in range(0,len(a)):\n",
        "  if a[i][num_attributes]=='yes':\n",
        "    for j in range(0,num_attributes):\n",
        "      if a[i][j]!=hypothesis[j]:\n",
        "        hypothesis[j]='?'\n",
        "else:\n",
        "    hypothesis[j]=a[i][j]\n",
        "print(\"For training Instance No:{0} the hypothesis is\".format(i),hypothesis)\n",
        "print(\"\\n The Maximally specific Hypothesis for a given Training Examples: \\n\")\n",
        "print(hypothesis)"
      ]
    },
    {
      "cell_type": "code",
      "source": [
        "from google.colab import drive\n",
        "drive.mount('/content/drive')"
      ],
      "metadata": {
        "id": "PdK5mYvK1ccU"
      },
      "execution_count": null,
      "outputs": []
    }
  ]
}